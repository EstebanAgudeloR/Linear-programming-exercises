{
  "nbformat": 4,
  "nbformat_minor": 0,
  "metadata": {
    "colab": {
      "provenance": [],
      "authorship_tag": "ABX9TyOFtftRDQpsLiiRrW6ennpH",
      "include_colab_link": true
    },
    "kernelspec": {
      "name": "python3",
      "display_name": "Python 3"
    },
    "language_info": {
      "name": "python"
    }
  },
  "cells": [
    {
      "cell_type": "markdown",
      "metadata": {
        "id": "view-in-github",
        "colab_type": "text"
      },
      "source": [
        "<a href=\"https://colab.research.google.com/github/EstebanAgudeloR/Linear-programming-exercises/blob/main/basic_linear_optimization.ipynb\" target=\"_parent\"><img src=\"https://colab.research.google.com/assets/colab-badge.svg\" alt=\"Open In Colab\"/></a>"
      ]
    },
    {
      "cell_type": "code",
      "execution_count": null,
      "metadata": {
        "colab": {
          "base_uri": "https://localhost:8080/"
        },
        "id": "OqWI7dpcAOHZ",
        "outputId": "aa41fe43-8c96-440d-937b-ccce24b375ec"
      },
      "outputs": [
        {
          "output_type": "stream",
          "name": "stdout",
          "text": [
            "Estado del problema: optimal\n",
            "119.99999934784174 80.00000048666341 564000.0\n"
          ]
        }
      ],
      "source": [
        "import cvxpy as cvx\n",
        "import numpy as np\n",
        "\n",
        "## Exercise 1: Simple Two-Variable Linear Programming Problem\n",
        "\n",
        "# Resolver el problema (formulación algebráica)\n",
        "\n",
        "# 1. Crear las variables de decisión con cvx\n",
        "x1 = cvx.Variable()\n",
        "x2 = cvx.Variable()\n",
        "\n",
        "# 2. Función objetivo cvx.Maximize(funcion_objetivo) ó cvx.Minimize(funcion_objetivo)\n",
        "Z = cvx.Maximize(2900*x1 + 2700*x2)\n",
        "\n",
        "# 3. Restricciones en una lista.\n",
        "R = [ x1+x2<= 200,\n",
        "      x1 + x2 >= 60,\n",
        "      x1 >= x2,\n",
        "      x1 <= 120,\n",
        "      x1 >= 0,\n",
        "      x2 >= 0,]\n",
        "\n",
        "# 4. Configuración del problema, cvx.Problem(Var_donde_configuramos_el_problema,Lista_de_restricciones)\n",
        "P = cvx.Problem(Z,R)\n",
        "\n",
        "# 5. Solucionar el problema, imprime el resultado de la f objetivo evaluada en la solución óptima.\n",
        "# También podemos modificar el solver por defecto que usa cvx, para evitar\n",
        "# resultados inaccurate, se hace de esta manera: P.solve(solver=cvx.ECOS) (muy poco común).\n",
        "\n",
        "P.solve()\n",
        "\n",
        "# 6. Imprimir solución del problema:\n",
        "print(\"Estado del problema:\", P.status) #\n",
        "\n",
        "print(x1.value,x2.value,np.round(P.value,0))"
      ]
    },
    {
      "cell_type": "code",
      "source": [
        "## Exercise 2: Cost Minimization with Four Decision Variables\n",
        "\n",
        "\n",
        "# Resolver el problema (formulación algebráica)\n",
        "\n",
        "# 1. Crear las variables de decisión con cvx\n",
        "x1 = cvx.Variable()\n",
        "x2 = cvx.Variable()\n",
        "x3 = cvx.Variable()\n",
        "x4 = cvx.Variable()\n",
        "\n",
        "# 2. Función objetivo cvx.Maximize(funcion_objetivo) ó cvx.Minimize(funcion_objetivo)\n",
        "Z = cvx.Minimize(819*x1 + 677*x2 + 365*x3 + 950*x4)\n",
        "\n",
        "# 3. Restricciones en una lista.\n",
        "R = [ 1.2*x1 + 2.1*x2 + 0.6*x3 + 3*x4 >= 10,\n",
        "      2*x1 + 1.6*x2 + 1*x3 + 0.2*x4 >= 13,\n",
        "      x1 <= 5,\n",
        "      x2 <= 8,\n",
        "      x4 <= 2,\n",
        "      x2 <= x3,\n",
        "      x1>=0,\n",
        "      x2>=0,\n",
        "      x3>=0,\n",
        "      x4>=0,]\n",
        "\n",
        "# 4. Configuración del problema, cvx.Problem(Var_donde_configuramos_el_problema,Lista_de_restricciones)\n",
        "P = cvx.Problem(Z,R)\n",
        "\n",
        "# 5. Solucionar el problema, imprime el resultado de la f objetivo evaluada en la solución óptima.\n",
        "# También podemos modificar el solver por defecto que usa cvx, para evitar\n",
        "# resultados inaccurate, se hace de esta manera: P.solve(solver=cvx.ECOS) (muy poco común).\n",
        "\n",
        "P.solve()\n",
        "\n",
        "# 6. Imprimir solución del problema:\n",
        "print(\"Estado del problema:\", P.status) #\n",
        "\n",
        "print(x1.value,x2.value,x3.value, x4.value, np.round(P.value,0))"
      ],
      "metadata": {
        "colab": {
          "base_uri": "https://localhost:8080/"
        },
        "id": "QWm6MZAYDs2s",
        "outputId": "6b819af5-57c1-4cc1-a2c1-b7ca3b2bb78e"
      },
      "execution_count": null,
      "outputs": [
        {
          "output_type": "stream",
          "name": "stdout",
          "text": [
            "Estado del problema: optimal\n",
            "6.126250377502329e-09 1.9298245611206086 9.912280689493901 -8.392330191087067e-10 4924.0\n"
          ]
        }
      ]
    },
    {
      "cell_type": "code",
      "source": [
        "## Exercise 3: Linear Cost Minimization with Two Variables\n",
        "\n",
        "\n",
        "# Resolver el problema (formulación algebráica)\n",
        "\n",
        "# 1. Crear las variables de decisión con cvx\n",
        "x1 = cvx.Variable()\n",
        "x2 = cvx.Variable()\n",
        "\n",
        "# 2. Función objetivo cvx.Maximize(funcion_objetivo) ó cvx.Minimize(funcion_objetivo)\n",
        "Z = cvx.Minimize(18561*x1 + 18917*x2)\n",
        "\n",
        "# 3. Restricciones en una lista.\n",
        "R = [ (0.25*x1 + 0.11*x2)<= 11,\n",
        "      x1 >=0,\n",
        "      x2>=0,\n",
        "      x1+x2<=100.00001,\n",
        "      x1+x2>=99.999]\n",
        "\n",
        "# 4. Configuración del problema, cvx.Problem(Var_donde_configuramos_el_problema,Lista_de_restricciones)\n",
        "P = cvx.Problem(Z,R)\n",
        "\n",
        "# 5. Solucionar el problema, imprime el resultado de la f objetivo evaluada en la solución óptima.\n",
        "# También podemos modificar el solver por defecto que usa cvx, para evitar\n",
        "# resultados inaccurate, se hace de esta manera: P.solve(solver=cvx.ECOS) (muy poco común).\n",
        "\n",
        "P.solve()\n",
        "\n",
        "# 6. Imprimir solución del problema:\n",
        "print(\"Estado del problema:\", P.status) #\n",
        "\n",
        "print(x1.value,x2.value,np.round(P.value,0))"
      ],
      "metadata": {
        "colab": {
          "base_uri": "https://localhost:8080/"
        },
        "id": "JzcHJVelMjez",
        "outputId": "610172ff-e262-4992-e6fa-1ba8e0b45f2d"
      },
      "execution_count": null,
      "outputs": [
        {
          "output_type": "stream",
          "name": "stdout",
          "text": [
            "Estado del problema: optimal\n",
            "0.0007838205569951626 99.99821613989154 1891681.0\n"
          ]
        }
      ]
    }
  ]
}