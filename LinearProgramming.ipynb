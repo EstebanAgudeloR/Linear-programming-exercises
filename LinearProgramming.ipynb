{
  "nbformat": 4,
  "nbformat_minor": 0,
  "metadata": {
    "colab": {
      "provenance": []
    },
    "kernelspec": {
      "name": "python3",
      "display_name": "Python 3"
    },
    "language_info": {
      "name": "python"
    }
  },
  "cells": [
    {
      "cell_type": "code",
      "execution_count": 2,
      "metadata": {
        "id": "lO9qcM9trje_"
      },
      "outputs": [],
      "source": [
        "import cvxpy as cvx\n",
        "import numpy as np"
      ]
    },
    {
      "cell_type": "code",
      "source": [
        "#Exercise 1: Generator Production and Storage\n",
        "\n",
        "# variables de decisión\n",
        "x = cvx.Variable((4,1), nonneg = True) # Matriz de variables de 4 filas (generadores por mes) y restricción de no negatividad\n",
        "# Definir los coeficientes de costos una sublista por cada columna\n",
        "c_x = [[354,183,138,385]]\n",
        "\n",
        "a = cvx.Variable((4,1), nonneg = True) # Matriz de variables de 4 filas (almacenados cada mes) y restricción de no negatividad\n",
        "# Definir los coeficientes de costos una sublista por cada columna\n",
        "c_a = [[2,2,2,2]] # cuesta 5 alamacenar un generador durante un mes\n",
        "\n",
        "# Definir la función objetivo\n",
        "Z = cvx.Minimize(cvx.sum(cvx.multiply(c_x,x)) + cvx.sum(cvx.multiply(c_a,a))) # Así multiplica \"Componente a componente\", y luego se hace la suma de cada valor\n",
        "                                                                              # Queremos minimizar los costos totales (producción + almacenamiento)\n",
        "\n",
        "# Restricciones\n",
        "r = [\n",
        "     # Restricciones de oferta\n",
        "     x[0] <= 25, # número máximo de generadores en agosto es 22\n",
        "     x[1] <= 21, # número máximo de generadores en septiembre es 36\n",
        "     x[2] <= 22, # número máximo de generadores en octubre es 38\n",
        "     x[3] <= 38, # número máximo de generadores en noviembre es 21\n",
        "\n",
        "     # restricciones de demanda\n",
        "     x[0] - a[0] >= 10, # Se requieren 10 generadores para agosto, que es lo que se produce en agosto menos lo que se almacenó\n",
        "     x[1] + a[0] - a[1] >= 15, # Se requieren 15 generadores para sep, que es lo que se produce en sep + lo del mes anterior - lo que se almacenó\n",
        "     x[2] + a[1] - a[2] >= 25,\n",
        "     x[3] + a[2] - a[3] >= 20\n",
        "    ]\n",
        "\n",
        "# Configuración del problema, le pasamos la función objetivo y la lista con las restricciones\n",
        "P = cvx.Problem(Z,r)\n",
        "\n",
        "# Resolver\n",
        "P.solve()\n",
        "\n",
        "# Imprimir resultados\n",
        "print(P.status)\n",
        "print(\"costo = \", np.round(P.value,1))\n",
        "print(np.around(x.value,1)) # ¿Cuántos generadores se producen en ese mes?\n",
        "print(np.around(a.value,1)) # ¿Cuántos generadores se almacenan en ese mes?\n"
      ],
      "metadata": {
        "colab": {
          "base_uri": "https://localhost:8080/"
        },
        "id": "QgG6tUxltDLL",
        "outputId": "733e7be6-5096-40a3-df8c-b99ca04da427"
      },
      "execution_count": null,
      "outputs": [
        {
          "output_type": "stream",
          "name": "stdout",
          "text": [
            "optimal\n",
            "costo =  16607.0\n",
            "[[25.]\n",
            " [21.]\n",
            " [22.]\n",
            " [ 2.]]\n",
            "[[15.]\n",
            " [21.]\n",
            " [18.]\n",
            " [ 0.]]\n"
          ]
        }
      ]
    },
    {
      "cell_type": "code",
      "source": [
        "#Exercise 2: Car Transportation Optimization\n",
        "\n",
        "# variables de decisión\n",
        "x = cvx.Variable((3,2), nonneg = True) # Matriz de variables de 3 filas (origenes) y 2 columnas (destinos), y restricción de no negatividad\n",
        "\n",
        "# Definir los coeficientes de costos una sublista por cada columna, según la profe tiene dimensiones 3*4\n",
        "c = [[75,100,102], # km, y vale 1 pseo cada km, a Denver\n",
        "    [215,108,50]] # A Miami\n",
        "\n",
        "# Definir la función objetivo\n",
        "Z = cvx.Minimize(cvx.sum(cvx.multiply(c,x))) # Así multiplica \"Componente a componente\", y luego se hace la suma de cada valor\n",
        "\n",
        "# Restricciones\n",
        "r = [\n",
        "     # Restricciones de oferta\n",
        "     cvx.sum(x[0,:]) <= 1000, # La capacidad trimestral de autos en los ángeles es 1000\n",
        "     cvx.sum(x[1,:]) <= 1500, # Capacidad de prod autos Detroit\n",
        "     cvx.sum(x[2,:]) <= 1200, # Capacidad de prod autos Nueva Orléans\n",
        "\n",
        "      # restricciones de demanda\n",
        "     cvx.sum(x[:,0]) >= 2300, # La demandaa trimestral de autos en Denver es de 2300\n",
        "     cvx.sum(x[:,1]) >= 1400, # demanda trim de autos en Miami\n",
        "\n",
        "    ]\n",
        "\n",
        "# Configuración del problema, le pasamos la función objetivo y la lista con las restricciones\n",
        "P = cvx.Problem(Z,r)\n",
        "\n",
        "# Resolver\n",
        "P.solve()\n",
        "\n",
        "# Imprimir resultados\n",
        "print(P.status)\n",
        "print(\"kilometros = \", np.round(P.value,1))\n",
        "print(np.around(x.value,1))"
      ],
      "metadata": {
        "colab": {
          "base_uri": "https://localhost:8080/"
        },
        "id": "HKeS5FRvvKsF",
        "outputId": "5b2ce199-cab4-4380-dd59-758cc0f712f5"
      },
      "execution_count": null,
      "outputs": [
        {
          "output_type": "stream",
          "name": "stdout",
          "text": [
            "optimal\n",
            "kilometros =  286600.0\n",
            "[[1000.    0.]\n",
            " [1300.  200.]\n",
            " [   0. 1200.]]\n"
          ]
        }
      ]
    },
    {
      "cell_type": "code",
      "source": [
        "#Exercise 3: Water Distribution Optimization\n",
        "\n",
        "\n",
        "# variables de decisión\n",
        "x = cvx.Variable((3,4), nonneg = True) # Matriz de variables de 3 filas (origenes) y 4 columnas (destinos), y restricción de no negatividad\n",
        "# Lo que debe llevarse desde el río i hasta la ciudad j xij\n",
        "\n",
        "# Definir los coeficientes de costos una sublista por cada columna, según la profe tiene dimensiones 3*4\n",
        "c = [[5,3,6],\n",
        "    [7,6,1],\n",
        "    [7,6,2],\n",
        "    [3,1,4]]\n",
        "\n",
        "# Definir la función objetivo\n",
        "Z = cvx.Minimize(cvx.sum(cvx.multiply(c,x))) # Así multiplica \"Componente a componente\", y luego se hace la suma de cada valor\n",
        "\n",
        "# Restricciones, en este caso Oferta>Demanda\n",
        "r = [\n",
        "     # Restricciones de oferta\n",
        "     cvx.sum(x[0,:]) <= 50, # Del río Colombo tenemos 50 m^3 disponibles\n",
        "     cvx.sum(x[1,:]) <= 60, # Del río Piave tenemos 60 m^3 disponibles\n",
        "     cvx.sum(x[2,:]) <= 50, # Del río Calorie tenemos 50 m^3 disponibles\n",
        "\n",
        "      # restricciones de demanda\n",
        "     cvx.sum(x[:,0]) >= 30, # La necesidad de la ciudad 1 es de 30 m^3\n",
        "     cvx.sum(x[:,1]) >= 70, # La necesidad de la ciudad 2 es de 70 m^3\n",
        "     cvx.sum(x[:,2]) >= 0, # La necesidad de la ciudad 3 es de 0 m^3\n",
        "     cvx.sum(x[:,3]) >= 10 # La necesidad de la ciudad 4 es de 10 m^3\n",
        "    ]\n",
        "\n",
        "# Configuración del problema, le pasamos la función objetivo y la lista con las restricciones\n",
        "P = cvx.Problem(Z,r)\n",
        "\n",
        "# Resolver\n",
        "P.solve()\n",
        "\n",
        "# Imprimir resultados\n",
        "print(P.status)\n",
        "print(\"costo = \", np.round(P.value,1))\n",
        "print(np.around(x.value,1))"
      ],
      "metadata": {
        "id": "_tcg4rZMwSW2",
        "colab": {
          "base_uri": "https://localhost:8080/"
        },
        "outputId": "860c0d9d-1131-42fa-e2a1-4234dc07d511"
      },
      "execution_count": 3,
      "outputs": [
        {
          "output_type": "stream",
          "name": "stdout",
          "text": [
            "optimal\n",
            "costo =  270.0\n",
            "[[ 0.  0.  0.  0.]\n",
            " [30. 20.  0. 10.]\n",
            " [ 0. 50.  0.  0.]]\n"
          ]
        },
        {
          "output_type": "stream",
          "name": "stderr",
          "text": [
            "/usr/local/lib/python3.12/dist-packages/cvxpy/expressions/constants/constant.py:52: UserWarning: Initializing a Constant with a nested list is undefined behavior. Consider using a numpy array instead.\n",
            "  warnings.warn(NESTED_LIST_WARNING)\n"
          ]
        }
      ]
    },
    {
      "cell_type": "code",
      "source": [
        "# variables de decisión\n",
        "x = cvx.Variable((4,4), nonneg = True) # Matriz de variables de 4 filas (origenes) y 4 columnas (destinos), y restricción de no negatividad\n",
        "\n",
        "# Definir los coeficientes de costos una sublista por cada columna, según la profe tiene dimensiones 3*4\n",
        "c = [[2,5,6,5], # Costos de transporte a montería\n",
        "    [5,5,1,1], # A bogotá\n",
        "    [2,7,2,6], # A medellín\n",
        "    [3,1,4,2]] # A Barranquilla\n",
        "\n",
        "# Definir la función objetivo\n",
        "Z = cvx.Minimize(cvx.sum(cvx.multiply(c,x))) # Así multiplica \"Componente a componente\", y luego se hace la suma de cada valor\n",
        "\n",
        "# Restricciones, en este caso Oferta = Demanda\n",
        "r = [\n",
        "     # Restricciones de oferta\n",
        "     cvx.sum(x[0,:]) <= 80, # La planta ubicada en la ciudad 1 puede producir 80 mil cervezas diarias\n",
        "     cvx.sum(x[1,:]) <= 30,\n",
        "     cvx.sum(x[2,:]) <= 60,\n",
        "     cvx.sum(x[3,:]) <= 45,\n",
        "\n",
        "      # restricciones de demanda\n",
        "     cvx.sum(x[:,0]) >= 70, #  El almacén ubicado en montería tiene una necesidad de 70 mil cervezas al día\n",
        "     cvx.sum(x[:,1]) >= 40,\n",
        "     cvx.sum(x[:,2]) >= 70,\n",
        "     cvx.sum(x[:,3]) >= 35\n",
        "    ]\n",
        "\n",
        "# Configuración del problema, le pasamos la función objetivo y la lista con las restricciones\n",
        "P = cvx.Problem(Z,r)\n",
        "\n",
        "# Resolver\n",
        "P.solve()\n",
        "\n",
        "# Imprimir resultados\n",
        "print(P.status)\n",
        "print(\"costo = \", np.round(P.value,1))\n",
        "print(np.around(x.value,1))"
      ],
      "metadata": {
        "colab": {
          "base_uri": "https://localhost:8080/"
        },
        "id": "JxPZcvXqyW0l",
        "outputId": "8a1f4770-989b-46d1-f034-352f754aa8bc"
      },
      "execution_count": null,
      "outputs": [
        {
          "output_type": "stream",
          "name": "stdout",
          "text": [
            "optimal\n",
            "costo =  360.0\n",
            "[[70.  0. 10.  0.]\n",
            " [ 0.  0.  0. 30.]\n",
            " [ 0.  0. 60.  0.]\n",
            " [ 0. 40.  0.  5.]]\n"
          ]
        }
      ]
    },
    {
      "cell_type": "code",
      "source": [
        "# variables de decisión\n",
        "x = cvx.Variable((3,4), nonneg = True) # Matriz de variables de 3 filas (origenes) y 4 columnas (destinos), y restricción de no negatividad\n",
        "\n",
        "# Definir los coeficientes de costos una sublista por cada columna, según la profe tiene dimensiones 3*4\n",
        "\n",
        "#     M1   M2   M3\n",
        "c = [[866, 547, 707], #C1\n",
        "    [861, 622, 664],  #C2\n",
        "    [612, 433, 426],  #C3\n",
        "    [590, 570, 779]]  #C4\n",
        "\n",
        "# Definir la función objetivo\n",
        "Z = cvx.Minimize(cvx.sum(cvx.multiply(c,x))) # Así multiplica \"Componente a componente\", y luego se hace la suma de cada valor\n",
        "\n",
        "# Restricciones\n",
        "r = [\n",
        "     # Restricciones de oferta\n",
        "     cvx.sum(x[0,:]) <= 75, # La mina 1 puede producir hasta 75 toneladas de carbón (fila 0 = Mina 1)\n",
        "     cvx.sum(x[1,:]) <= 125, # (fila 1 = mina 2) 125 toneladas de carbón\n",
        "     cvx.sum(x[2,:]) <= 100, # (fila 2 = mina 3)\n",
        "\n",
        "      # restricciones de demanda\n",
        "     cvx.sum(x[:,0]) >= 80, # El centro 1 (columna 1 -> 0) tiene una demanda de 80 toneladas de carbón\n",
        "     cvx.sum(x[:,1]) >= 65,\n",
        "     cvx.sum(x[:,2]) >= 70,\n",
        "     cvx.sum(x[:,3]) >= 85\n",
        "    ]\n",
        "\n",
        "# Configuración del problema, le pasamos la función objetivo y la lista con las restricciones\n",
        "P = cvx.Problem(Z,r)\n",
        "\n",
        "# Resolver\n",
        "P.solve()\n",
        "\n",
        "# Imprimir resultados\n",
        "print(P.status)\n",
        "print(\"costo = \", np.round(P.value,2))\n",
        "print(np.around(x.value,1))"
      ],
      "metadata": {
        "colab": {
          "base_uri": "https://localhost:8080/"
        },
        "id": "1P3YG1qmzneF",
        "outputId": "f37131ea-e017-4119-d976-af3c35fb062f"
      },
      "execution_count": null,
      "outputs": [
        {
          "output_type": "stream",
          "name": "stdout",
          "text": [
            "optimal\n",
            "costo =  165220.0\n",
            "[[ 0.  0.  0. 75.]\n",
            " [80. 35.  0. 10.]\n",
            " [ 0. 30. 70.  0.]]\n"
          ]
        }
      ]
    },
    {
      "cell_type": "code",
      "source": [
        "# variables de decisión\n",
        "x = cvx.Variable((4,4), nonneg = True) # Matriz de variables de 4 filas (origenes) y 4 columnas (destinos), y restricción de no negatividad\n",
        "\n",
        "# Definir los coeficientes de costos una sublista por cada columna, según la profe tiene dimensiones 3*4\n",
        "c = [[5,3,6,4],\n",
        "    [2,6,1,3],\n",
        "    [7,6,2,6],\n",
        "    [3,1,4,6]]\n",
        "\n",
        "# Definir la función objetivo\n",
        "Z = cvx.Minimize(cvx.sum(cvx.multiply(c,x))) # Así multiplica \"Componente a componente\", y luego se hace la suma de cada valor\n",
        "\n",
        "# Restricciones, en este caso Oferta = Demanda\n",
        "r = [\n",
        "     # Restricciones de oferta\n",
        "     cvx.sum(x[0,:]) <= 80, # en Montería puede producir 80 mil cervezas diarias\n",
        "     cvx.sum(x[1,:]) <= 30,\n",
        "     cvx.sum(x[2,:]) <= 60,\n",
        "     cvx.sum(x[3,:]) <= 45,\n",
        "\n",
        "      # restricciones de demanda\n",
        "     cvx.sum(x[:,0]) >= 70, #  El almacén ubicado en montería tiene una necesidad de 70 mil cervezas al día\n",
        "     cvx.sum(x[:,1]) >= 40,\n",
        "     cvx.sum(x[:,2]) >= 70,\n",
        "     cvx.sum(x[:,3]) >= 35,\n",
        "\n",
        "     # no es posible enviar más de 12 mil cervezas de Montería a Bogotá. -> X12 = X[0,1] (ya está en miles)\n",
        "     x[0,1] <= 15\n",
        "    ]\n",
        "\n",
        "# Configuración del problema, le pasamos la función objetivo y la lista con las restricciones\n",
        "P = cvx.Problem(Z,r)\n",
        "\n",
        "# Resolver\n",
        "P.solve()\n",
        "\n",
        "# Imprimir resultados\n",
        "print(P.status)\n",
        "print(\"costo = \", np.round(P.value,1))\n",
        "print(np.around(x.value,1))"
      ],
      "metadata": {
        "colab": {
          "base_uri": "https://localhost:8080/"
        },
        "id": "SuODL4G40pE-",
        "outputId": "ff471d6d-b5e6-4ee4-a9b1-4cc3b1757e6e"
      },
      "execution_count": null,
      "outputs": [
        {
          "output_type": "stream",
          "name": "stdout",
          "text": [
            "optimal\n",
            "costo =  670.0\n",
            "[[35.1 15.   6.4 23.5]\n",
            " [18.5  0.   0.  11.5]\n",
            " [ 0.   0.  60.   0. ]\n",
            " [16.4 25.   3.6  0. ]]\n"
          ]
        }
      ]
    },
    {
      "cell_type": "code",
      "source": [
        "# variables de decisión\n",
        "x = cvx.Variable((5,5), boolean = True) # decisión de trazar un camino directo entre las veredas ij (i=1..5, j=1..5)\n",
        "\n",
        "# Función objetivo: Minimizar la longitud de los kilómetros de carretera\n",
        "no = 99999\n",
        "\n",
        "a, b, c, d, e, f, g, h, k = 29, 18, 2, 3, 2, 3, 11, 14, 7\n",
        "\n",
        "#      1   2   3   4   5\n",
        "c = [[no,  a,  b, no,  c], # 1\n",
        "     [ a, no,  e,  k,  f], # 2\n",
        "     [ b,  e, no,  g,  d], # 3\n",
        "     [no,  k,  g, no,  h], # 4\n",
        "     [ c,  f,  d,  h, no]] # 5\n",
        "\n",
        "Z = cvx.Minimize(cvx.sum(cvx.multiply(c,x))) / 2 # Lo dividimos entre dos, pues cuenta el costo de cada camino dos veces (por la restri. de simetría)\n",
        "\n",
        "# restricciones\n",
        "r = [\n",
        "    # de demanda (cada nodo conectado con otro nodo, por lo menos)\n",
        "    cvx.sum(x[:,0]) >= 1,\n",
        "    cvx.sum(x[:,1]) >= 1,\n",
        "    cvx.sum(x[:,2]) >= 1,\n",
        "    cvx.sum(x[:,3]) >= 1,\n",
        "    cvx.sum(x[:,4]) >= 1,\n",
        "\n",
        "    # de simetría\n",
        "    cvx.upper_tri(x) == cvx.upper_tri(x.T),\n",
        "\n",
        "    # de redes conectadas\n",
        "    cvx.sum(x) >= (5-1)*2, # tantos enlaces como (# nodos - 1), y *2 porque se cuentan dos veces\n",
        "]\n",
        "\n",
        "# Configuración del problema\n",
        "P = cvx.Problem(Z,r)\n",
        "\n",
        "# Solucion el problema\n",
        "P.solve()\n",
        "\n",
        "print(P.status)\n",
        "print(np.round(P.value,1))\n",
        "print(np.round(x.value,0))"
      ],
      "metadata": {
        "colab": {
          "base_uri": "https://localhost:8080/"
        },
        "id": "l6zi-7pAxsm4",
        "outputId": "9f423e48-9fbb-4173-f797-bfd23613ce68"
      },
      "execution_count": null,
      "outputs": [
        {
          "output_type": "stream",
          "name": "stdout",
          "text": [
            "optimal\n",
            "14.0\n",
            "[[0. 0. 0. 0. 1.]\n",
            " [0. 0. 1. 1. 1.]\n",
            " [0. 1. 0. 0. 0.]\n",
            " [0. 1. 0. 0. 0.]\n",
            " [1. 1. 0. 0. 0.]]\n"
          ]
        }
      ]
    },
    {
      "cell_type": "code",
      "source": [
        "# variables de decisión xij: cantidad de carros que van del nodo i al nodo j (i=1..7, j=1..7)\n",
        "x = cvx.Variable((7,7), nonneg = True)\n",
        "\n",
        "# función objetivo\n",
        "Z = cvx.Maximize(cvx.sum(x[:,6])) # Maximizamos la cantidad que sale de la ciudad, representandolo como la cantidad que llega al nodo destino\n",
        "\n",
        "# restricciones\n",
        "\n",
        "a, b, c, d, e, f, g, h, i, k, m, n, q, s = 29, 18, 2, 3, 2, 3, 11, 14, 7, 5, 2, 2, 8, 14\n",
        "\n",
        "    # 1  2  3  4  5  6  7\n",
        "b = [[0, 0, 0, 0, 0, 0, 0], #1\n",
        "     [a, 0, d, 0, 0, 0, 0], #2\n",
        "     [b, e, 0, 0, 0, 0, 0], #3\n",
        "     [c, 0, f, 0, 0, 0, 0], #4\n",
        "     [0, g, h, 0, 0, m, 0], #5\n",
        "     [0, 0, i, k, n, 0, 0], #6\n",
        "     [0, 0, 0, 0, q, s, 0]] #7\n",
        "\n",
        "r = [\n",
        "    # de capacidad máxima por tramo xij\n",
        "    x <= b,\n",
        "\n",
        "    # carros que entran y que salen\n",
        "    cvx.sum(x[0,:]) == cvx.sum(x[:,6]),\n",
        "              #1                #2\n",
        "\n",
        "     # nodos de transbordo\n",
        "    cvx.sum(x[:,1]) - cvx.sum(x[1,:]) >= 0,\n",
        "    cvx.sum(x[:,2]) - cvx.sum(x[2,:]) >= 0,\n",
        "    cvx.sum(x[:,3]) - cvx.sum(x[3,:]) >= 0,\n",
        "    cvx.sum(x[:,4]) - cvx.sum(x[4,:]) >= 0,\n",
        "    cvx.sum(x[:,5]) - cvx.sum(x[5,:]) >= 0,\n",
        "\n",
        "]\n",
        "\n",
        "# Configuración del problema\n",
        "P = cvx.Problem(Z,r)\n",
        "\n",
        "# Solucion el problema\n",
        "P.solve()\n",
        "\n",
        "print(np.round(P.value,1))\n",
        "print(np.round(x.value,1))"
      ],
      "metadata": {
        "colab": {
          "base_uri": "https://localhost:8080/"
        },
        "id": "wBEgVUVAySUr",
        "outputId": "cb677fc1-fee4-4197-bfe8-e486c8a0dfdd"
      },
      "execution_count": null,
      "outputs": [
        {
          "output_type": "stream",
          "name": "stdout",
          "text": [
            "22.0\n",
            "[[ 0.   7.6 12.4  2.   0.   0.   0. ]\n",
            " [ 0.   0.   1.4  0.   6.9  0.   0. ]\n",
            " [ 0.   0.7  0.   3.   3.1  7.   0. ]\n",
            " [ 0.   0.   0.   0.   0.   5.   0. ]\n",
            " [ 0.   0.   0.   0.   0.   2.   8. ]\n",
            " [ 0.   0.   0.   0.   0.   0.  14. ]\n",
            " [ 0.   0.   0.   0.   0.   0.   0. ]]\n"
          ]
        }
      ]
    },
    {
      "cell_type": "code",
      "source": [
        "# variables de decisión\n",
        "x = cvx.Variable((3,4), nonneg = True) # Matriz de variables de 3 filas (origenes) y 4 columnas (destinos), y restricción de no negatividad\n",
        "\n",
        "# Definir los coeficientes de costos una sublista por cada columna, según la profe tiene dimensiones 3*4\n",
        "\n",
        "#     M1   M2   M3\n",
        "c = [[751, 419, 307], #C1\n",
        "    [392, 896, 335],  #C2\n",
        "    [987, 385, 400],  #C3\n",
        "    [663, 542, 317]]  #C4\n",
        "\n",
        "# Definir la función objetivo\n",
        "Z = cvx.Minimize(cvx.sum(cvx.multiply(c,x))) # Así multiplica \"Componente a componente\", y luego se hace la suma de cada valor\n",
        "\n",
        "# Restricciones\n",
        "r = [\n",
        "     # Restricciones de oferta\n",
        "     cvx.sum(x[0,:]) <= 75, # La mina 1 puede producir hasta 75 toneladas de carbón (fila 0 = Mina 1)\n",
        "     cvx.sum(x[1,:]) <= 125, # (fila 1 = mina 2) 125 toneladas de carbón\n",
        "     cvx.sum(x[2,:]) <= 100, # (fila 2 = mina 3)\n",
        "\n",
        "      # restricciones de demanda\n",
        "     cvx.sum(x[:,0]) >= 80, # El centro 1 (columna 1 -> 0) tiene una demanda de 80 toneladas de carbón\n",
        "     cvx.sum(x[:,1]) >= 65,\n",
        "     cvx.sum(x[:,2]) >= 70,\n",
        "     cvx.sum(x[:,3]) >= 85\n",
        "    ]\n",
        "\n",
        "# Configuración del problema, le pasamos la función objetivo y la lista con las restricciones\n",
        "P = cvx.Problem(Z,r)\n",
        "\n",
        "# Resolver\n",
        "P.solve()\n",
        "\n",
        "# Imprimir resultados\n",
        "print(P.status)\n",
        "print(\"costo = \", np.round(P.value,2))\n",
        "print(np.around(x.value,1))"
      ],
      "metadata": {
        "colab": {
          "base_uri": "https://localhost:8080/"
        },
        "id": "koJIXN9hzZP4",
        "outputId": "1e04f182-ca7e-4d80-bf35-f0a57c68f647"
      },
      "execution_count": null,
      "outputs": [
        {
          "output_type": "stream",
          "name": "stdout",
          "text": [
            "optimal\n",
            "costo =  113555.0\n",
            "[[ 0. 65.  0. 10.]\n",
            " [55.  0. 70.  0.]\n",
            " [25.  0.  0. 75.]]\n"
          ]
        }
      ]
    },
    {
      "cell_type": "code",
      "source": [
        "# variables de decisión\n",
        "x = cvx.Variable((4,1), nonneg = True) # Matriz de variables de 4 filas (generadores por mes) y restricción de no negatividad\n",
        "# Definir los coeficientes de costos una sublista por cada columna\n",
        "c_x = [[398,117,443,454]]\n",
        "\n",
        "a = cvx.Variable((4,1), nonneg = True) # Matriz de variables de 4 filas (almacenados cada mes) y restricción de no negatividad\n",
        "# Definir los coeficientes de costos una sublista por cada columna\n",
        "c_a = [[1,1,1,1]] # cuesta 5 alamacenar un generador durante un mes\n",
        "\n",
        "# Definir la función objetivo\n",
        "Z = cvx.Minimize(cvx.sum(cvx.multiply(c_x,x)) + cvx.sum(cvx.multiply(c_a,a))) # Así multiplica \"Componente a componente\", y luego se hace la suma de cada valor\n",
        "                                                                              # Queremos minimizar los costos totales (producción + almacenamiento)\n",
        "\n",
        "# Restricciones\n",
        "r = [\n",
        "     # Restricciones de oferta\n",
        "     x[0] <= 34, # número máximo de generadores en agosto es 22\n",
        "     x[1] <= 23, # número máximo de generadores en septiembre es 36\n",
        "     x[2] <= 20, # número máximo de generadores en octubre es 38\n",
        "     x[3] <= 22, # número máximo de generadores en noviembre es 21\n",
        "\n",
        "     # restricciones de demanda\n",
        "     x[0] - a[0] >= 10, # Se requieren 10 generadores para agosto, que es lo que se produce en agosto menos lo que se almacenó\n",
        "     x[1] + a[0] - a[1] >= 15, # Se requieren 15 generadores para sep, que es lo que se produce en sep + lo del mes anterior - lo que se almacenó\n",
        "     x[2] + a[1] - a[2] >= 25,\n",
        "     x[3] + a[2] - a[3] >= 20\n",
        "    ]\n",
        "\n",
        "# Configuración del problema, le pasamos la función objetivo y la lista con las restricciones\n",
        "P = cvx.Problem(Z,r)\n",
        "\n",
        "# Resolver\n",
        "P.solve()\n",
        "\n",
        "# Imprimir resultados\n",
        "print(P.status)\n",
        "print(\"costo = \", np.round(P.value,1))\n",
        "print(np.around(x.value,1)) # ¿Cuántos generadores se producen en ese mes?\n",
        "print(np.around(a.value,1)) # ¿Cuántos generadores se almacenan en ese mes?"
      ],
      "metadata": {
        "colab": {
          "base_uri": "https://localhost:8080/"
        },
        "id": "y2YSOB2q0U4B",
        "outputId": "ec552ea0-d959-480d-d261-158f34498492"
      },
      "execution_count": null,
      "outputs": [
        {
          "output_type": "stream",
          "name": "stdout",
          "text": [
            "optimal\n",
            "costo =  22058.0\n",
            "[[34.]\n",
            " [23.]\n",
            " [13.]\n",
            " [ 0.]]\n",
            "[[24.]\n",
            " [32.]\n",
            " [20.]\n",
            " [ 0.]]\n"
          ]
        }
      ]
    },
    {
      "cell_type": "code",
      "source": [
        "# variables de decisión\n",
        "x = cvx.Variable((13,13), boolean = True) # xij: Hacer el camino de i a j\n",
        "\n",
        "# Función objetivo: Lo máximo que me voy a demorar en llegar desde el nodo 1 al 13\n",
        "no = -99999 # pq queremos maximizar y que no tome los valores dados con no, entonces no colocará los números pequeñitos\n",
        "\n",
        "a, b, c, d, e, f, g, h, i, k, m, n, p, q, s, v = 8, 2, 1, 2, 10, 1, 2, 2, 6, 4, 1, 1, 1, 6, 10, 8\n",
        "\n",
        "#     1   2   3   4   5   6   7   8   9  10  11  12  13\n",
        "c =[[no, no, no, no, no, no, no, no, no, no, no, no, no], # 1\n",
        "    [ a, no, no, no, no, no, no, no, no, no, no, no, no], # 2\n",
        "    [no,  b, no, no, no, no, no, no, no, no, no, no, no], # 3\n",
        "    [no, no,  c, no, no, no, no, no, no, no, no, no, no], # 4\n",
        "    [no, no, no,  d, no, no, no, no, no, no, no, no, no], # 5\n",
        "    [no, no, no,  e, no, no, no, no, no, no, no, no, no], # 6\n",
        "    [no, no, no,  h,  g, no, no, no, no, no, no, no, no], # 7\n",
        "    [no, no, no, no,  i,  f, no, no, no, no, no, no, no], # 8\n",
        "    [no, no, no, no, no, no,  n, no, no, no, no, no, no], # 9\n",
        "    [no, no, no, no, no, no, no,  k, no, no, no, no, no], # 10\n",
        "    [no, no, no, no, no, no, no, no,  p, no, no, no, no], # 11\n",
        "    [no, no, no, no, no, no, no, no,  q, no,  s, no, no], # 12\n",
        "    [no, no, no, no, no, no, no, no, no,  m, no,  v, no]] # 13\n",
        "\n",
        "Z = cvx.Maximize(cvx.sum(cvx.multiply(c,x)))\n",
        "\n",
        "# restricciones\n",
        "r = [\n",
        "    # de oferta, el proyecto tiene que iniciar\n",
        "    cvx.sum(x[0,:]) <= 1 ,\n",
        "\n",
        "    # de demanda, el proyecto debe terminar, llegar a 13\n",
        "    cvx.sum(x[:,12]) >=1 ,\n",
        "\n",
        "    # demás nodos son de transbordo, (lo que llega al nodo k es igual a lo que sale del nodo k), k = 2, 3…12\n",
        "\n",
        "    cvx.sum(x[:,1]) - cvx.sum(x[1,:]) >= 0,\n",
        "    cvx.sum(x[:,2]) - cvx.sum(x[2,:]) >= 0,\n",
        "    cvx.sum(x[:,3]) - cvx.sum(x[3,:]) >= 0,\n",
        "    cvx.sum(x[:,4]) - cvx.sum(x[4,:]) >= 0,\n",
        "    cvx.sum(x[:,5]) - cvx.sum(x[5,:]) >= 0,\n",
        "    cvx.sum(x[:,6]) - cvx.sum(x[6,:]) >= 0,\n",
        "    cvx.sum(x[:,7]) - cvx.sum(x[7,:]) >= 0,\n",
        "    cvx.sum(x[:,8]) - cvx.sum(x[8,:]) >= 0,\n",
        "    cvx.sum(x[:,9]) - cvx.sum(x[9,:]) >= 0,\n",
        "    cvx.sum(x[:,10]) - cvx.sum(x[10,:]) >= 0,\n",
        "    cvx.sum(x[:,11]) - cvx.sum(x[11,:]) >= 0,\n",
        "]\n",
        "\n",
        "# Configuración del problema\n",
        "P = cvx.Problem(Z,r)\n",
        "\n",
        "P.solve() # slnar el problema\n",
        "\n",
        "print(P.status)\n",
        "print(np.round(P.value,1))\n",
        "print(np.round(x.value,0))"
      ],
      "metadata": {
        "colab": {
          "base_uri": "https://localhost:8080/"
        },
        "id": "yyLb6RNZ1VYI",
        "outputId": "c491b533-5515-44af-a09b-c9b7dfb5df86"
      },
      "execution_count": null,
      "outputs": [
        {
          "output_type": "stream",
          "name": "stdout",
          "text": [
            "optimal\n",
            "35.0\n",
            "[[0. 1. 0. 0. 0. 0. 0. 0. 0. 0. 0. 0. 0.]\n",
            " [0. 0. 1. 0. 0. 0. 0. 0. 0. 0. 0. 0. 0.]\n",
            " [0. 0. 0. 1. 0. 0. 0. 0. 0. 0. 0. 0. 0.]\n",
            " [0. 0. 0. 0. 1. 0. 0. 0. 0. 0. 0. 0. 0.]\n",
            " [0. 0. 0. 0. 0. 0. 1. 0. 0. 0. 0. 0. 0.]\n",
            " [0. 0. 0. 0. 0. 0. 0. 0. 0. 0. 0. 0. 0.]\n",
            " [0. 0. 0. 0. 0. 0. 0. 0. 1. 0. 0. 0. 0.]\n",
            " [0. 0. 0. 0. 0. 0. 0. 0. 0. 0. 0. 0. 0.]\n",
            " [0. 0. 0. 0. 0. 0. 0. 0. 0. 0. 1. 0. 0.]\n",
            " [0. 0. 0. 0. 0. 0. 0. 0. 0. 0. 0. 0. 0.]\n",
            " [0. 0. 0. 0. 0. 0. 0. 0. 0. 0. 0. 1. 0.]\n",
            " [0. 0. 0. 0. 0. 0. 0. 0. 0. 0. 0. 0. 1.]\n",
            " [0. 0. 0. 0. 0. 0. 0. 0. 0. 0. 0. 0. 0.]]\n"
          ]
        }
      ]
    }
  ]
}